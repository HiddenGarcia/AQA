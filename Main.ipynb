{
 "cells": [
  {
   "cell_type": "code",
   "execution_count": null,
   "id": "2bf54a10",
   "metadata": {},
   "outputs": [],
   "source": [
    "from qiskit import QuantumCircuit\n",
    "from qiskit.circuit import ClassicalRegister, QuantumRegister\n",
    "from qiskit.quantum_info import Statevector\n",
    "from qiskit.visualization import array_to_latex\n",
    "from qiskit_ibm_runtime import QiskitRuntimeService, Sampler, Session, Options\n",
    "from qiskit import transpile\n",
    "from qiskit.visualization import *\n",
    "import numpy as np\n",
    "import matplotlib.pyplot as plt\n",
    "from matplotlib import style\n",
    "style.use('bmh')\n",
    "\n",
    "from qiskit.primitives import SamplerResult"
   ]
  },
  {
   "cell_type": "code",
   "execution_count": null,
   "id": "7e3ed25c",
   "metadata": {},
   "outputs": [],
   "source": [
    "QiskitRuntimeService.save_account(channel=\"ibm_quantum\", token=\"8517bec216407d31487d5cb2ce893b43f356a831180bb0807a94effc8f4244187a435a2204a1a78574ac63fb7bea585e87db1165468f943218e9ddbcab3143b3\", overwrite=True)"
   ]
  },
  {
   "cell_type": "code",
   "execution_count": null,
   "id": "eb3126a0",
   "metadata": {},
   "outputs": [],
   "source": [
    "# A 8x8 binary image represented as a numpy array\n",
    "image = np.array([[0, 0, 0, 0, 0, 0, 0, 0],\n",
    "                  [0, 1, 1, 1, 1, 1, 0, 0],\n",
    "                  [0, 1, 1, 1, 1, 1, 1, 0],\n",
    "                  [0, 1, 1, 1, 1, 1, 1, 0],\n",
    "                  [0, 1, 1, 1, 1, 1, 1, 0],\n",
    "                  [0, 0, 0, 1, 1, 1, 1, 0],\n",
    "                  [0, 0, 0, 1, 1, 1, 1, 0],\n",
    "                  [0, 0, 0, 0, 0, 0, 0, 0]])\n",
    "\n",
    "# Function for plotting the image using matplotlib\n",
    "def plot_image(img, title: str):\n",
    "    plt.title(title)\n",
    "    plt.xticks(range(img.shape[0]))\n",
    "    plt.yticks(range(img.shape[1]))\n",
    "    plt.imshow(img, extent=[0, img.shape[0], img.shape[1], 0], cmap='viridis')\n",
    "    plt.show()\n",
    "\n",
    "plot_image(image, 'Original Image')"
   ]
  },
  {
   "cell_type": "code",
   "execution_count": null,
   "id": "5f598448",
   "metadata": {},
   "outputs": [],
   "source": [
    "# Convert the raw pixel values to probability amplitudes\n",
    "def amplitude_encode(img_data):\n",
    "\n",
    "    # Calculate the RMS value\n",
    "    rms = np.sqrt(np.sum(np.sum(img_data**2, axis=1)))\n",
    "\n",
    "    # Create normalized image\n",
    "    image_norm = []\n",
    "    for arr in img_data:\n",
    "        for ele in arr:\n",
    "            image_norm.append(ele / rms)\n",
    "\n",
    "    # Return the normalized image as a numpy array\n",
    "    return np.array(image_norm)\n",
    "\n",
    "# Get the amplitude ancoded pixel values\n",
    "# Horizontal: Original image\n",
    "image_norm_h = amplitude_encode(image)\n",
    "\n",
    "# Vertical: Transpose of Original image\n",
    "image_norm_v = amplitude_encode(image.T)\n",
    "# Initialize some global variable for number of qubits\n",
    "data_qb = 6\n",
    "anc_qb = 1\n",
    "total_qb = data_qb + anc_qb\n",
    "\n",
    "# Initialize the amplitude permutation unitary\n",
    "D2n_1 = np.roll(np.identity(2**total_qb), 1, axis=1)\n",
    "\n",
    "# Create the circuit for horizontal scan\n",
    "qc_h = QuantumCircuit(total_qb)\n",
    "qc_h.initialize(image_norm_h, range(1, total_qb))\n",
    "qc_h.h(0)\n",
    "qc_h.unitary(D2n_1, range(total_qb))\n",
    "qc_h.h(0)\n",
    "display(qc_h.draw('mpl', fold=-1))\n",
    "\n",
    "# Create the circuit for vertical scan\n",
    "qc_v = QuantumCircuit(total_qb)\n",
    "qc_v.initialize(image_norm_v, range(1, total_qb))\n",
    "qc_v.h(0)\n",
    "qc_v.unitary(D2n_1, range(total_qb))\n",
    "qc_v.h(0)\n",
    "display(qc_v.draw('mpl', fold=-1))\n",
    "\n",
    "# Combine both circuits into a single list\n",
    "circ_list = [qc_h, qc_v]"
   ]
  },
  {
   "cell_type": "code",
   "execution_count": null,
   "id": "4ce6419f",
   "metadata": {},
   "outputs": [],
   "source": [
    "# Simulating the cirucits\n",
    "sv_h = Statevector.from_instruction(qc_h)\n",
    "sv_v = Statevector.from_instruction(qc_v)\n",
    "\n",
    "\n",
    "print('Horizontal scan statevector:')\n",
    "display(array_to_latex(sv_h.data[:30], max_size=30))\n",
    "print()\n",
    "\n",
    "print('Vertical scan statevector:')\n",
    "display(array_to_latex(sv_v.data[:30], max_size=30))"
   ]
  },
  {
   "cell_type": "code",
   "execution_count": null,
   "id": "cd3721de",
   "metadata": {},
   "outputs": [],
   "source": [
    "# Classical postprocessing for plotting the output\n",
    "\n",
    "# Defining a lambda function for\n",
    "# thresholding to binary values\n",
    "threshold = lambda amp: (amp > 1e-15 or amp < -1e-15)\n",
    "\n",
    "# Selecting odd states from the raw statevector and\n",
    "# reshaping column vector of size 64 to an 8x8 matrix\n",
    "edge_scan_h = np.abs(np.array([1 if threshold(sv_h[2*i+1].real) else 0 for i in range(2**data_qb)])).reshape(8, 8)\n",
    "edge_scan_v = np.abs(np.array([1 if threshold(sv_v[2*i+1].real) else 0 for i in range(2**data_qb)])).reshape(8, 8).T\n",
    "\n",
    "# Plotting the Horizontal and vertical scans\n",
    "plot_image(edge_scan_h, 'Horizontal scan output')\n",
    "plot_image(edge_scan_v, 'Vertical scan output')"
   ]
  },
  {
   "cell_type": "code",
   "execution_count": null,
   "id": "be08b816",
   "metadata": {},
   "outputs": [],
   "source": [
    "# Combining the horizontal and vertical component of the result\n",
    "edge_scan_sim = edge_scan_h | edge_scan_v\n",
    "\n",
    "# Plotting the original and edge-detected images\n",
    "plot_image(image, 'Original image')\n",
    "plot_image(edge_scan_sim, 'Edge Detected image')"
   ]
  },
  {
   "cell_type": "code",
   "execution_count": null,
   "id": "5cb8eccb",
   "metadata": {},
   "outputs": [],
   "source": [
    "# Create a 2x2 image to be run on the hardware\n",
    "# The pixels in `image_small` correspond to the pixels at\n",
    "# (6, 2), (6, 3), (7, 2), (7, 3) respectively\n",
    "image_small = image[6:8, 2:4]\n",
    "\n",
    "# Plotting the image_small using matplotlib\n",
    "plot_image(image_small, 'Cropped image')\n"
   ]
  },
  {
   "cell_type": "code",
   "execution_count": null,
   "id": "15193b96",
   "metadata": {},
   "outputs": [],
   "source": [
    "# Initialize the number of qubits\n",
    "data_qb = 2\n",
    "anc_qb = 1\n",
    "total_qb = data_qb + anc_qb\n",
    "\n",
    "# Create the circuit for horizontal scan\n",
    "qc_small_h = QuantumCircuit(total_qb)\n",
    "qc_small_h.x(1)\n",
    "qc_small_h.h(0)\n",
    "\n",
    "# Decrement gate - START\n",
    "qc_small_h.x(0)\n",
    "qc_small_h.cx(0, 1)\n",
    "qc_small_h.ccx(0, 1, 2)\n",
    "# Decrement gate - END\n",
    "\n",
    "qc_small_h.h(0)\n",
    "qc_small_h.measure_all()\n",
    "display(qc_small_h.draw('mpl'))\n",
    "\n",
    "# Create the circuit for vertical scan\n",
    "qc_small_v = QuantumCircuit(total_qb)\n",
    "qc_small_v.x(2)\n",
    "qc_small_v.h(0)\n",
    "\n",
    "# Decrement gate - START\n",
    "qc_small_v.x(0)\n",
    "qc_small_v.cx(0, 1)\n",
    "qc_small_v.ccx(0, 1, 2)\n",
    "# Decrement gate - END\n",
    "\n",
    "qc_small_v.h(0)\n",
    "qc_small_v.measure_all()\n",
    "display(qc_small_v.draw('mpl'))\n",
    "\n",
    "# Combine both circuits into a single list\n",
    "circ_list = [qc_small_h, qc_small_v]"
   ]
  },
  {
   "cell_type": "code",
   "execution_count": null,
   "id": "b5b10d57",
   "metadata": {},
   "outputs": [],
   "source": [
    "service = QiskitRuntimeService()\n",
    "backend = service.backend(\"ibm_sherbrooke\")\n",
    "# Transpile the circuits for optimized execution on the backend\n",
    "qc_small_h_t = transpile(qc_small_h,backend=backend ,optimization_level=3)\n",
    "qc_small_v_t = transpile(qc_small_v,backend=backend, optimization_level=3)\n",
    "\n",
    "# Store in a list if needed\n",
    "circ_list_t = [qc_small_h_t, qc_small_v_t]\n",
    "\n",
    "# Draw transpiled circuits using modern API\n",
    "display(circuit_drawer(circ_list_t[0], output=\"mpl\", fold=-1))\n",
    "display(circuit_drawer(circ_list_t[1], output=\"mpl\", fold=-1))"
   ]
  },
  {
   "cell_type": "code",
   "execution_count": null,
   "id": "dbbc3208",
   "metadata": {},
   "outputs": [],
   "source": [
    "with Session(backend=backend) as session:\n",
    "    sampler = Sampler()\n",
    "    job = sampler.run(circ_list_t)\n",
    "    result = job.result()"
   ]
  },
  {
   "cell_type": "code",
   "execution_count": null,
   "id": "8d2ed791",
   "metadata": {},
   "outputs": [],
   "source": [
    "quasi_dist = result[0].data.meas"
   ]
  },
  {
   "cell_type": "code",
   "execution_count": null,
   "id": "261afd72",
   "metadata": {},
   "outputs": [],
   "source": [
    "print(result)"
   ]
  },
  {
   "cell_type": "code",
   "execution_count": null,
   "id": "15a27910",
   "metadata": {},
   "outputs": [],
   "source": [
    "# Accessing individual results for each circuit\n",
    "result_circuit_0 = result[0]\n",
    "result_circuit_1 = result[1]\n",
    "\n",
    "# Extract quasi-distribution and bitarray\n",
    "quasi_dist0 = result_circuit_0.data.meas\n",
    "quasi_dist1 = result_circuit_1.data.meas\n",
    "\n",
    "# Get total shots from quasi distribution of one of the results\n",
    "total_shots = quasi_dist0.num_shots\n",
    "\n",
    "\n",
    "# Function to get counts from quasi distribution\n",
    "def get_counts_from_quasi_dist(quasi_dist, total_shots):\n",
    "    counts = {}\n",
    "    for bitstring, prob in quasi_dist.items():\n",
    "        count = round(prob * total_shots)\n",
    "        if count > 0:\n",
    "            counts[bitstring] = count\n",
    "    return counts\n",
    "\n",
    "\n",
    "# Get counts for each circuit using the function\n",
    "counts0 = get_counts_from_quasi_dist(quasi_dist0, total_shots)\n",
    "counts1 = get_counts_from_quasi_dist(quasi_dist1, total_shots)\n",
    "\n",
    "print(\"Counts for circuit 0:\", counts0)\n",
    "print(\"Counts for circuit 1:\", counts1)"
   ]
  },
  {
   "cell_type": "code",
   "execution_count": null,
   "id": "879ccaae",
   "metadata": {},
   "outputs": [],
   "source": [
    "result[0].data.meas.get_counts().get('0', 0)"
   ]
  },
  {
   "cell_type": "code",
   "execution_count": null,
   "id": "087338ca",
   "metadata": {},
   "outputs": [],
   "source": [
    "total_shots = 1024  # or the number you assume for scaling\n",
    "circuit_width = 3   # replace with actual number of qubits\n",
    "\n",
    "counts = {}\n",
    "for bitstring, prob in quasi_dist.items():\n",
    "    count = round(prob * total_shots)\n",
    "    if count > 0:\n",
    "        formatted_bitstring = format(int(bitstring, 0), f'0{circuit_width}b')\n",
    "        counts[formatted_bitstring] = count"
   ]
  }
 ],
 "metadata": {
  "language_info": {
   "name": "python"
  }
 },
 "nbformat": 4,
 "nbformat_minor": 5
}
